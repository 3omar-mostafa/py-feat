{
 "cells": [
  {
   "cell_type": "code",
   "execution_count": 38,
   "metadata": {
    "ExecuteTime": {
     "end_time": "2018-02-04T15:04:41.851920",
     "start_time": "2018-02-04T15:04:41.846369Z"
    }
   },
   "outputs": [],
   "source": [
    "import pandas as pd\n",
    "from facesync.utils import read_facet\n",
    "%matplotlib inline\n",
    "import matplotlib.pyplot as plt\n",
    "from pandas import DataFrame,Series"
   ]
  },
  {
   "cell_type": "code",
   "execution_count": 80,
   "metadata": {
    "ExecuteTime": {
     "end_time": "2018-02-04T16:25:41.177548",
     "start_time": "2018-02-04T16:25:41.168268Z"
    }
   },
   "outputs": [],
   "source": [
    "def read_facet(facetfile, features=None):\n",
    "    '''\n",
    "    This function reads in an iMotions-FACET exported facial expression file. \n",
    "    Args: \n",
    "        features: If a list of column names are passed, those are returned. Otherwise, default returns the following features:\n",
    "        ['Joy Evidence','Anger Evidence','Surprise Evidence','Fear Evidence','Contempt Evidence',\n",
    "                  'Disgust Evidence','Sadness Evidence','Confusion Evidence','Frustration Evidence',\n",
    "                  'Neutral Evidence','Positive Evidence','Negative Evidence','AU1 Evidence','AU2 Evidence',\n",
    "                  'AU4 Evidence','AU5 Evidence','AU6 Evidence','AU7 Evidence','AU9 Evidence','AU10 Evidence',\n",
    "                  'AU12 Evidence','AU14 Evidence','AU15 Evidence','AU17 Evidence','AU18 Evidence','AU20 Evidence',\n",
    "                  'AU23 Evidence','AU24 Evidence','AU25 Evidence','AU26 Evidence','AU28 Evidence','AU43 Evidence',\n",
    "                  'Yaw Degrees', 'Pitch Degrees', 'Roll Degrees']\n",
    "\n",
    "    Returns: \n",
    "        dataframe of processed facial expressions\n",
    "    \n",
    "    '''\n",
    "\n",
    "    d = pd.read_csv(facetfile, skiprows=5, sep='\\t')\n",
    "\n",
    "    # Check if features argument is passed and return only those features, else return basic emotion/AU features\n",
    "    if isinstance(features,list):\n",
    "        try:\n",
    "            d = d[features]\n",
    "        except:\n",
    "            raise KeyError([features,'not in facetfile'])\n",
    "    elif isinstance(features, type(None)):\n",
    "        features = ['Joy Evidence','Anger Evidence','Surprise Evidence','Fear Evidence','Contempt Evidence',\n",
    "                  'Disgust Evidence','Sadness Evidence','Confusion Evidence','Frustration Evidence',\n",
    "                  'Neutral Evidence','Positive Evidence','Negative Evidence','AU1 Evidence','AU2 Evidence',\n",
    "                  'AU4 Evidence','AU5 Evidence','AU6 Evidence','AU7 Evidence','AU9 Evidence','AU10 Evidence',\n",
    "                  'AU12 Evidence','AU14 Evidence','AU15 Evidence','AU17 Evidence','AU18 Evidence','AU20 Evidence',\n",
    "                  'AU23 Evidence','AU24 Evidence','AU25 Evidence','AU26 Evidence','AU28 Evidence','AU43 Evidence',\n",
    "                  'Yaw Degrees', 'Pitch Degrees', 'Roll Degrees']\n",
    "        d = d[features]\n",
    "    return d"
   ]
  },
  {
   "cell_type": "code",
   "execution_count": null,
   "metadata": {},
   "outputs": [],
   "source": []
  },
  {
   "cell_type": "code",
   "execution_count": 41,
   "metadata": {
    "ExecuteTime": {
     "end_time": "2018-02-04T15:06:15.424988",
     "start_time": "2018-02-04T15:06:15.412191Z"
    }
   },
   "outputs": [],
   "source": [
    "facetfile = '../feat/tests/data/iMotions_Test.txt'\n",
    "dat = Fex(pd.read_csv(facetfile,skiprows=5,sep='\\t'),sampling_freq=30)"
   ]
  },
  {
   "cell_type": "code",
   "execution_count": 46,
   "metadata": {
    "ExecuteTime": {
     "end_time": "2018-02-04T15:08:20.949471",
     "start_time": "2018-02-04T15:08:20.837759Z"
    },
    "scrolled": false
   },
   "outputs": [
    {
     "name": "stdout",
     "output_type": "stream",
     "text": [
      "30 <class 'int'>\n",
      "60 <class 'int'>\n"
     ]
    },
    {
     "name": "stderr",
     "output_type": "stream",
     "text": [
      "/Users/jinhyuncheong/anaconda2/envs/py36/lib/python3.6/site-packages/nltools/stats.py:379: UserWarning: Dropping 6 non-numeric columns\n",
      "  warnings.warn('Dropping %s non-numeric columns' % (data.shape[1] - numeric_data.shape[1]), UserWarning)\n"
     ]
    },
    {
     "data": {
      "text/plain": [
       "1036"
      ]
     },
     "execution_count": 46,
     "metadata": {},
     "output_type": "execute_result"
    }
   ],
   "source": [
    "len(dat.upsample(target=60,target_type='hz'))\n"
   ]
  },
  {
   "cell_type": "code",
   "execution_count": 48,
   "metadata": {
    "ExecuteTime": {
     "end_time": "2018-02-04T15:08:37.387710",
     "start_time": "2018-02-04T15:08:37.383801Z"
    }
   },
   "outputs": [
    {
     "data": {
      "text/plain": [
       "1036"
      ]
     },
     "execution_count": 48,
     "metadata": {},
     "output_type": "execute_result"
    }
   ],
   "source": [
    "(len(dat)-1)*2"
   ]
  },
  {
   "cell_type": "code",
   "execution_count": 54,
   "metadata": {
    "ExecuteTime": {
     "end_time": "2018-02-04T16:14:47.015574",
     "start_time": "2018-02-04T16:14:47.011345Z"
    }
   },
   "outputs": [
    {
     "data": {
      "text/plain": [
       "True"
      ]
     },
     "execution_count": 54,
     "metadata": {},
     "output_type": "execute_result"
    }
   ],
   "source": [
    "j = None\n",
    "isinstance(j,type(None))"
   ]
  },
  {
   "cell_type": "code",
   "execution_count": null,
   "metadata": {},
   "outputs": [],
   "source": []
  },
  {
   "cell_type": "code",
   "execution_count": 39,
   "metadata": {
    "ExecuteTime": {
     "end_time": "2018-02-04T15:04:52.349771",
     "start_time": "2018-02-04T15:04:51.374467Z"
    }
   },
   "outputs": [
    {
     "name": "stderr",
     "output_type": "stream",
     "text": [
      "/Users/jinhyuncheong/anaconda2/envs/py36/lib/python3.6/site-packages/h5py/__init__.py:34: FutureWarning: Conversion of the second argument of issubdtype from `float` to `np.floating` is deprecated. In future, it will be treated as `np.float64 == np.dtype(float).type`.\n",
      "  from ._conv import register_converters as _register_converters\n"
     ]
    }
   ],
   "source": [
    "\"\"\"Class definitions.\"\"\"\n",
    "\n",
    "import os\n",
    "import numpy as np\n",
    "import pandas as pd\n",
    "from pandas import DataFrame, Series\n",
    "import six\n",
    "from copy import deepcopy\n",
    "from nltools.data import Adjacency, design_matrix\n",
    "from nltools.stats import (downsample,\n",
    "                           upsample,\n",
    "                           transform_pairwise)\n",
    "from sklearn.metrics.pairwise import pairwise_distances, cosine_similarity\n",
    "from sklearn.utils import check_random_state\n",
    "\n",
    "class FexSeries(Series):\n",
    "\n",
    "    \"\"\"\n",
    "    This is a sub-class of pandas series. While not having additional methods\n",
    "    of it's own required to retain normal slicing functionality for the\n",
    "    Fex class, i.e. how slicing is typically handled in pandas.\n",
    "    All methods should be called on Fex below.\n",
    "    \"\"\"\n",
    "\n",
    "    @property\n",
    "    def _constructor(self):\n",
    "        return FexSeries\n",
    "\n",
    "    @property\n",
    "    def _constructor_expanddim(self):\n",
    "        return Fex\n",
    "\n",
    "class Fex(DataFrame):\n",
    "\n",
    "    \"\"\"Fex is a class to represent facial expression data. It is essentially\n",
    "        an enhanced pandas df, with extra attributes and methods. Methods\n",
    "        always return a new design matrix instance.\n",
    "\n",
    "    Args:\n",
    "        file (list of strs): path to file or files that will be imported \n",
    "        sampling_freq (float, optional): sampling rate of each row in Hz;\n",
    "                                         defaults to None\n",
    "        features (pd.Dataframe, optional): features that correspond to each\n",
    "                                          Fex row\n",
    "    \"\"\"\n",
    "\n",
    "    _metadata = ['sampling_freq', 'features']\n",
    "\n",
    "    def __init__(self, *args, **kwargs):\n",
    "        self.sampling_freq = kwargs.pop('sampling_freq', None)\n",
    "        \n",
    "        self.features = kwargs.pop('features', False)\n",
    "        super(Fex, self).__init__(*args, **kwargs)\n",
    "    \n",
    "        \n",
    "        # imotions_columns = ['Joy', 'Anger', 'Surprise', 'Fear', 'Contempt',\n",
    "        #                     'Disgust', 'Sadness', 'Confusion', 'Frustration',\n",
    "        #                     'Neutral', 'Positive', 'Negative', 'AU1', 'AU2',\n",
    "        #                     'AU4', 'AU5', 'AU6', 'AU7', 'AU9', 'AU10', 'AU12',\n",
    "        #                     'AU14', 'AU15', 'AU17', 'AU18', 'AU20', 'AU23',\n",
    "        #                     'AU24', 'AU25', 'AU26', 'AU28', 'AU43',\n",
    "        #                     'NoOfFaces', 'Yaw Degrees', 'Pitch Degrees',\n",
    "        #                     'Roll Degrees']\n",
    "        # if not set(imotions_columns).issubset(self):\n",
    "        #     raise ValueError('Missing key facial expression features.')\n",
    "\n",
    "    @property\n",
    "    def _constructor(self):\n",
    "        return Fex\n",
    "\n",
    "    @property\n",
    "    def _constructor_sliced(self):\n",
    "        return FexSeries\n",
    "\n",
    "    # @classmethod\n",
    "    # def from_file(cls, filename, **kwargs):\n",
    "    #     \"\"\"Alternate constructor to create a ``GeoDataFrame`` from a file.\n",
    "    #     Can load a ``GeoDataFrame`` from a file in any format recognized by\n",
    "    #     `fiona`. See http://toblerity.org/fiona/manual.html for details.\n",
    "    #     Parameters\n",
    "    #     ----------\n",
    "    #     filename : str\n",
    "    #         File path or file handle to read from. Depending on which kwargs\n",
    "    #         are included, the content of filename may vary. See\n",
    "    #         http://toblerity.org/fiona/README.html#usage for usage details.\n",
    "    #     kwargs : key-word arguments\n",
    "    #         These arguments are passed to fiona.open, and can be used to\n",
    "    #         access multi-layer data, data stored within archives (zip files),\n",
    "    #         etc.\n",
    "    #     Examples\n",
    "    #     --------\n",
    "    #     >>> df = geopandas.GeoDataFrame.from_file('nybb.shp')\n",
    "    #     \"\"\"\n",
    "    #     return geopandas.io.file.read_file(filename, **kwargs)\n",
    "\n",
    "    def info(self):\n",
    "        \"\"\"Print class meta data.\n",
    "\n",
    "        \"\"\"\n",
    "        return '%s.%s(sampling_freq=%s, shape=%s, features_shape=%s)' % (\n",
    "            self.__class__.__module__,\n",
    "            self.__class__.__name__,\n",
    "            self.sampling_freq,\n",
    "            self.shape,\n",
    "            self.features.shape,\n",
    "            )\n",
    "\n",
    "    def append(self, data):\n",
    "        '''Append a new Fex object to an existing object'''\n",
    "        if not isinstance(data, Fex):\n",
    "            raise ValueError('Make sure data is a Fex instance.')\n",
    "\n",
    "        if self.empty:\n",
    "            out = data.copy()\n",
    "        else:\n",
    "            out = self.copy()\n",
    "            if out.sampling_freq!=data.sampling_freq:\n",
    "                raise ValueError('Make sure Fex objects have the same '\n",
    "                                 'sampling frequency')\n",
    "            out.data = out.data.append(data.data, ignore_index=True)\n",
    "            out.features = out.features.append(data.features, ignore_index=True)\n",
    "            # Need to check if features match\n",
    "        return out\n",
    "\n",
    "    def regress(self):\n",
    "        pass\n",
    "\n",
    "    def ttest(self, threshold_dict=None):\n",
    "        pass\n",
    "\n",
    "    def predict(self, *args, **kwargs):\n",
    "        pass\n",
    "\n",
    "    def downsample(self, target, **kwargs):\n",
    "        \"\"\" Downsample Fex columns. Relies on nltools.stats.downsample,\n",
    "           but ensures that returned object is a Fex object.\n",
    "\n",
    "        Args:\n",
    "            target(float): downsampling target, typically in samples not\n",
    "                            seconds\n",
    "            kwargs: additional inputs to nltools.stats.downsample\n",
    "\n",
    "        \"\"\"\n",
    "        df_ds = downsample(self, sampling_freq=self.sampling_freq,\n",
    "                           target=target, **kwargs)\n",
    "        if self.features:\n",
    "            ds_features = downsample(self.features,\n",
    "                                     sampling_freq=self.sampling_freq,\n",
    "                                     target=target, **kwargs)\n",
    "        else:\n",
    "            ds_features = self.features\n",
    "        return Fex(df_ds, sampling_freq=target, features=ds_features)\n",
    "\n",
    "    def upsample(self, target, target_type='hz', **kwargs):\n",
    "        \"\"\" Upsample Fex columns. Relies on nltools.stats.upsample,\n",
    "            but ensures that returned object is a Fex object.\n",
    "\n",
    "        Args:\n",
    "            target(float): upsampling target, default 'hz' (also 'samples',\n",
    "                           'seconds')\n",
    "            kwargs: additional inputs to nltools.stats.upsample\n",
    "\n",
    "        \"\"\"\n",
    "        print(self.sampling_freq, type(self.sampling_freq))\n",
    "        print(target, type(target))\n",
    "        df_us = upsample(self, sampling_freq=self.sampling_freq,\n",
    "                         target=target, target_type=target_type, **kwargs)\n",
    "        if self.features:\n",
    "            us_features = upsample(self.features,\n",
    "                                   sampling_freq=self.sampling_freq,\n",
    "                                   target=target, target_type=target_type,\n",
    "                                   **kwargs)\n",
    "        else:\n",
    "            us_features = self.features\n",
    "        return Fex(df_us, sampling_freq=target, features=us_features)\n",
    "\n",
    "    def distance(self, method='euclidean', **kwargs):\n",
    "        \"\"\" Calculate distance between rows within a Fex() instance.\n",
    "\n",
    "            Args:\n",
    "                method: type of distance metric (can use any scikit learn or\n",
    "                        sciypy metric)\n",
    "\n",
    "            Returns:\n",
    "                dist: Outputs a 2D distance matrix.\n",
    "\n",
    "        \"\"\"\n",
    "\n",
    "        return Adjacency(pairwise_distances(self, metric=method, **kwargs),\n",
    "                         matrix_type='Distance')\n",
    "\n",
    "\n",
    "def _check_if_fex(data, column_list):\n",
    "    '''Check if data is a facial expression dataframe from iMotions\n",
    "\n",
    "    Notes: can eventually make this an importer of different data types\n",
    "\n",
    "    Args:\n",
    "        data: (pd.DataFrame) must have columns from iMotions\n",
    "        column_list: (list) list of column names that file should contain\n",
    "\n",
    "    Returns:\n",
    "        boolean\n",
    "\n",
    "    '''\n",
    "\n",
    "    if isinstance(data, (pd.DataFrame, Fex)):\n",
    "        if len(set(list(data.columns))-set(column_list)) > 0:\n",
    "            raise ValueError('Data as too many variables (e.g., more than standard iMotions File.')\n",
    "        if len(set(column_list)-set(list(data.columns))) > 0:\n",
    "            raise ValueError('Missing several imotions columns')\n",
    "        return True\n",
    "    else:\n",
    "        return False\n"
   ]
  },
  {
   "cell_type": "code",
   "execution_count": null,
   "metadata": {},
   "outputs": [],
   "source": []
  }
 ],
 "metadata": {
  "anaconda-cloud": {},
  "kernelspec": {
   "display_name": "Python [conda env:py36]",
   "language": "python",
   "name": "conda-env-py36-py"
  },
  "language_info": {
   "codemirror_mode": {
    "name": "ipython",
    "version": 3
   },
   "file_extension": ".py",
   "mimetype": "text/x-python",
   "name": "python",
   "nbconvert_exporter": "python",
   "pygments_lexer": "ipython3",
   "version": "3.6.1"
  },
  "toc": {
   "nav_menu": {
    "height": "12px",
    "width": "252px"
   },
   "navigate_menu": true,
   "number_sections": true,
   "sideBar": true,
   "threshold": 4,
   "toc_cell": false,
   "toc_section_display": "block",
   "toc_window_display": false
  }
 },
 "nbformat": 4,
 "nbformat_minor": 2
}
