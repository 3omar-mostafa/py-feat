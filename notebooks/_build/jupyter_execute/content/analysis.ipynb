{
 "cells": [
  {
   "cell_type": "markdown",
   "metadata": {},
   "source": [
    "# Analysis\n",
    "\n",
    "## How to analyze facial expression data with Feat.\n",
    "\n",
    "*Written by Jin Hyun Cheong*\n",
    "\n",
    "Here we will be using a sample dataset by David Watson on [\"A Data-Driven Characterisation Of Natural Facial Expressions When Giving Good And Bad News\"](https://journals.plos.org/ploscompbiol/article/peerReview?id=10.1371/journal.pcbi.1008335) by Watson & Johnston 2020. The full dataset is available on [OSF](https://osf.io/6tbwj/).\n",
    "\n",
    "First, we download the necessary files & videos. "
   ]
  },
  {
   "cell_type": "code",
   "execution_count": 5,
   "metadata": {
    "ExecuteTime": {
     "end_time": "2021-03-03T05:58:00.029493Z",
     "start_time": "2021-03-03T05:57:14.123614Z"
    }
   },
   "outputs": [],
   "source": [
    "import subprocess\n",
    "files_to_download = [\"4c5mb\", \"n6rt3\", \"3gh8v\", \"twqxs\", \"nc7d9\", \"nrwcm\", \"2rk9c\", \"mxkzq\", \"c2na7\", \"wj7zy\", \"mxywn\", \n",
    "                     \"6bn3g\", \"jkwsp\", \"54gtv\", \"c3hpm\", \"utdqj\", \"hpw4a\", \"94swe\", \"qte5y\", \"aykvu\", \"3d5ry\"]\n",
    "\n",
    "for fid in files_to_download:\n",
    "    subprocess.run(f\"wget --content-disposition https://osf.io/{fid}/download\".split())"
   ]
  },
  {
   "cell_type": "markdown",
   "metadata": {},
   "source": [
    "Check that videos have been downloaded and the attributes file, `clip_attrs.csv) explaining "
   ]
  },
  {
   "cell_type": "code",
   "execution_count": 1,
   "metadata": {
    "ExecuteTime": {
     "end_time": "2021-03-03T06:24:04.379068Z",
     "start_time": "2021-03-03T06:24:04.238645Z"
    }
   },
   "outputs": [
    {
     "name": "stdout",
     "output_type": "stream",
     "text": [
      "['001.mp4' '002.mp4' '003.mp4' '004.mp4' '005.mp4' '006.mp4' '007.mp4'\n",
      " '008.mp4' '009.mp4' '010.mp4' '011.mp4' '012.mp4' '013.mp4' '014.mp4'\n",
      " '015.mp4' '016.mp4' '017.mp4' '018.mp4' '019.mp4' '020.mp4']\n"
     ]
    }
   ],
   "source": [
    "import os, glob\n",
    "import numpy as np\n",
    "import pandas as pd\n",
    "\n",
    "clip_attrs = pd.read_csv(\"clip_attrs.csv\")\n",
    "videos = np.sort(glob.glob(\"*.mp4\"))\n",
    "print(videos)"
   ]
  },
  {
   "cell_type": "markdown",
   "metadata": {
    "ExecuteTime": {
     "end_time": "2021-03-03T06:01:04.796083Z",
     "start_time": "2021-03-03T06:01:04.789842Z"
    }
   },
   "source": [
    "Process each video using our detector. "
   ]
  },
  {
   "cell_type": "code",
   "execution_count": null,
   "metadata": {
    "ExecuteTime": {
     "end_time": "2021-03-03T06:29:08.400772Z",
     "start_time": "2021-03-03T06:24:14.288566Z"
    }
   },
   "outputs": [],
   "source": [
    "from feat import Detector\n",
    "detector = Detector(au_model = \"jaanet\", emotion_model = \"resmasknet\")\n",
    "for video in videos: \n",
    "    detector.detect_video(video, outputFname = video.replace(\".mp4\", \".csv\"))"
   ]
  },
  {
   "cell_type": "code",
   "execution_count": 14,
   "metadata": {
    "ExecuteTime": {
     "end_time": "2021-03-03T06:30:41.558999Z",
     "start_time": "2021-03-03T06:30:41.150504Z"
    }
   },
   "outputs": [],
   "source": [
    "from feat.utils import read_feat\n",
    "import pandas as pd\n",
    "\n",
    "for ix ,video in enumerate(videos):\n",
    "    outputF = video.replace(\".mp4\", \".csv\")\n",
    "    if ix == 0: \n",
    "        fex = read_feat(outputF)\n",
    "    else:\n",
    "        fex = pd.concat([out, read_feat(outputF)])\n",
    "fex = fex.dropna()"
   ]
  },
  {
   "cell_type": "code",
   "execution_count": 28,
   "metadata": {
    "ExecuteTime": {
     "end_time": "2021-03-03T06:33:58.496682Z",
     "start_time": "2021-03-03T06:33:58.488400Z"
    }
   },
   "outputs": [],
   "source": [
    "# Load in conditions\n",
    "clip_attrs = pd.read_csv(\"clip_attrs.csv\")\n",
    "clip_attrs[\"input\"] = clip_attrs.clipN.apply(lambda x: str(x).zfill(3)+\".mp4\")\n",
    "input_class_map = dict(zip(clip_attrs.input, clip_attrs['class']))\n"
   ]
  },
  {
   "cell_type": "markdown",
   "metadata": {},
   "source": [
    "## Extract features"
   ]
  },
  {
   "cell_type": "code",
   "execution_count": 49,
   "metadata": {
    "ExecuteTime": {
     "end_time": "2021-03-03T06:38:51.664595Z",
     "start_time": "2021-03-03T06:38:51.144141Z"
    }
   },
   "outputs": [
    {
     "data": {
      "text/html": [
       "<div>\n",
       "<style scoped>\n",
       "    .dataframe tbody tr th:only-of-type {\n",
       "        vertical-align: middle;\n",
       "    }\n",
       "\n",
       "    .dataframe tbody tr th {\n",
       "        vertical-align: top;\n",
       "    }\n",
       "\n",
       "    .dataframe thead th {\n",
       "        text-align: right;\n",
       "    }\n",
       "</style>\n",
       "<table border=\"1\" class=\"dataframe\">\n",
       "  <thead>\n",
       "    <tr style=\"text-align: right;\">\n",
       "      <th></th>\n",
       "      <th>mean_AU01</th>\n",
       "      <th>mean_AU02</th>\n",
       "      <th>mean_AU04</th>\n",
       "      <th>mean_AU06</th>\n",
       "      <th>mean_AU07</th>\n",
       "      <th>mean_AU10</th>\n",
       "      <th>mean_AU12</th>\n",
       "      <th>mean_AU14</th>\n",
       "      <th>mean_AU15</th>\n",
       "      <th>mean_AU17</th>\n",
       "      <th>...</th>\n",
       "      <th>mean_y_61</th>\n",
       "      <th>mean_y_62</th>\n",
       "      <th>mean_y_63</th>\n",
       "      <th>mean_y_64</th>\n",
       "      <th>mean_y_65</th>\n",
       "      <th>mean_y_66</th>\n",
       "      <th>mean_y_67</th>\n",
       "      <th>mean_y_7</th>\n",
       "      <th>mean_y_8</th>\n",
       "      <th>mean_y_9</th>\n",
       "    </tr>\n",
       "  </thead>\n",
       "  <tbody>\n",
       "    <tr>\n",
       "      <th>001.mp4</th>\n",
       "      <td>0.140665</td>\n",
       "      <td>0.855856</td>\n",
       "      <td>0.070829</td>\n",
       "      <td>0.851965</td>\n",
       "      <td>0.748190</td>\n",
       "      <td>0.842554</td>\n",
       "      <td>0.992311</td>\n",
       "      <td>0.524729</td>\n",
       "      <td>0.261690</td>\n",
       "      <td>0.000499</td>\n",
       "      <td>...</td>\n",
       "      <td>694.305659</td>\n",
       "      <td>696.236139</td>\n",
       "      <td>692.150659</td>\n",
       "      <td>682.592831</td>\n",
       "      <td>696.408174</td>\n",
       "      <td>700.882806</td>\n",
       "      <td>699.187324</td>\n",
       "      <td>814.856982</td>\n",
       "      <td>819.742603</td>\n",
       "      <td>808.427911</td>\n",
       "    </tr>\n",
       "    <tr>\n",
       "      <th>002.mp4</th>\n",
       "      <td>0.068047</td>\n",
       "      <td>0.757220</td>\n",
       "      <td>0.065335</td>\n",
       "      <td>0.756616</td>\n",
       "      <td>0.593310</td>\n",
       "      <td>0.892189</td>\n",
       "      <td>0.996428</td>\n",
       "      <td>0.528385</td>\n",
       "      <td>0.474023</td>\n",
       "      <td>0.000575</td>\n",
       "      <td>...</td>\n",
       "      <td>686.464658</td>\n",
       "      <td>688.592334</td>\n",
       "      <td>685.344299</td>\n",
       "      <td>677.572549</td>\n",
       "      <td>688.540245</td>\n",
       "      <td>692.234408</td>\n",
       "      <td>690.349490</td>\n",
       "      <td>806.882534</td>\n",
       "      <td>812.669819</td>\n",
       "      <td>802.669351</td>\n",
       "    </tr>\n",
       "    <tr>\n",
       "      <th>003.mp4</th>\n",
       "      <td>0.097756</td>\n",
       "      <td>0.829843</td>\n",
       "      <td>0.056197</td>\n",
       "      <td>0.777233</td>\n",
       "      <td>0.786006</td>\n",
       "      <td>0.870444</td>\n",
       "      <td>0.995471</td>\n",
       "      <td>0.662425</td>\n",
       "      <td>0.470681</td>\n",
       "      <td>0.000654</td>\n",
       "      <td>...</td>\n",
       "      <td>678.527397</td>\n",
       "      <td>681.056783</td>\n",
       "      <td>677.828855</td>\n",
       "      <td>672.959971</td>\n",
       "      <td>688.190226</td>\n",
       "      <td>691.792301</td>\n",
       "      <td>689.539840</td>\n",
       "      <td>803.369594</td>\n",
       "      <td>810.371285</td>\n",
       "      <td>800.508759</td>\n",
       "    </tr>\n",
       "    <tr>\n",
       "      <th>004.mp4</th>\n",
       "      <td>0.245191</td>\n",
       "      <td>0.899495</td>\n",
       "      <td>0.120592</td>\n",
       "      <td>0.870192</td>\n",
       "      <td>0.821127</td>\n",
       "      <td>0.832403</td>\n",
       "      <td>0.984547</td>\n",
       "      <td>0.558193</td>\n",
       "      <td>0.228535</td>\n",
       "      <td>0.000828</td>\n",
       "      <td>...</td>\n",
       "      <td>682.179613</td>\n",
       "      <td>684.565805</td>\n",
       "      <td>680.513723</td>\n",
       "      <td>674.068777</td>\n",
       "      <td>694.367983</td>\n",
       "      <td>698.833575</td>\n",
       "      <td>696.740101</td>\n",
       "      <td>811.564575</td>\n",
       "      <td>817.511093</td>\n",
       "      <td>806.248735</td>\n",
       "    </tr>\n",
       "    <tr>\n",
       "      <th>005.mp4</th>\n",
       "      <td>0.062102</td>\n",
       "      <td>0.664194</td>\n",
       "      <td>0.020351</td>\n",
       "      <td>0.837711</td>\n",
       "      <td>0.638295</td>\n",
       "      <td>0.815326</td>\n",
       "      <td>0.995633</td>\n",
       "      <td>0.334880</td>\n",
       "      <td>0.178700</td>\n",
       "      <td>0.000406</td>\n",
       "      <td>...</td>\n",
       "      <td>701.603967</td>\n",
       "      <td>703.849507</td>\n",
       "      <td>699.122215</td>\n",
       "      <td>687.917109</td>\n",
       "      <td>711.293560</td>\n",
       "      <td>716.390717</td>\n",
       "      <td>714.357210</td>\n",
       "      <td>827.466633</td>\n",
       "      <td>833.453529</td>\n",
       "      <td>821.740933</td>\n",
       "    </tr>\n",
       "  </tbody>\n",
       "</table>\n",
       "<p>5 rows × 161 columns</p>\n",
       "</div>"
      ],
      "text/plain": [
       "         mean_AU01  mean_AU02  mean_AU04  mean_AU06  mean_AU07  mean_AU10  \\\n",
       "001.mp4   0.140665   0.855856   0.070829   0.851965   0.748190   0.842554   \n",
       "002.mp4   0.068047   0.757220   0.065335   0.756616   0.593310   0.892189   \n",
       "003.mp4   0.097756   0.829843   0.056197   0.777233   0.786006   0.870444   \n",
       "004.mp4   0.245191   0.899495   0.120592   0.870192   0.821127   0.832403   \n",
       "005.mp4   0.062102   0.664194   0.020351   0.837711   0.638295   0.815326   \n",
       "\n",
       "         mean_AU12  mean_AU14  mean_AU15  mean_AU17  ...   mean_y_61  \\\n",
       "001.mp4   0.992311   0.524729   0.261690   0.000499  ...  694.305659   \n",
       "002.mp4   0.996428   0.528385   0.474023   0.000575  ...  686.464658   \n",
       "003.mp4   0.995471   0.662425   0.470681   0.000654  ...  678.527397   \n",
       "004.mp4   0.984547   0.558193   0.228535   0.000828  ...  682.179613   \n",
       "005.mp4   0.995633   0.334880   0.178700   0.000406  ...  701.603967   \n",
       "\n",
       "          mean_y_62   mean_y_63   mean_y_64   mean_y_65   mean_y_66  \\\n",
       "001.mp4  696.236139  692.150659  682.592831  696.408174  700.882806   \n",
       "002.mp4  688.592334  685.344299  677.572549  688.540245  692.234408   \n",
       "003.mp4  681.056783  677.828855  672.959971  688.190226  691.792301   \n",
       "004.mp4  684.565805  680.513723  674.068777  694.367983  698.833575   \n",
       "005.mp4  703.849507  699.122215  687.917109  711.293560  716.390717   \n",
       "\n",
       "          mean_y_67    mean_y_7    mean_y_8    mean_y_9  \n",
       "001.mp4  699.187324  814.856982  819.742603  808.427911  \n",
       "002.mp4  690.349490  806.882534  812.669819  802.669351  \n",
       "003.mp4  689.539840  803.369594  810.371285  800.508759  \n",
       "004.mp4  696.740101  811.564575  817.511093  806.248735  \n",
       "005.mp4  714.357210  827.466633  833.453529  821.740933  \n",
       "\n",
       "[5 rows x 161 columns]"
      ]
     },
     "metadata": {},
     "output_type": "display_data"
    }
   ],
   "source": [
    "fex.sessions = fex.input()\n",
    "average_au_intensity_per_video = fex.extract_mean()\n",
    "display(average_au_intensity_per_video.head())"
   ]
  },
  {
   "cell_type": "markdown",
   "metadata": {},
   "source": [
    "## Simple t-test"
   ]
  },
  {
   "cell_type": "code",
   "execution_count": 64,
   "metadata": {
    "ExecuteTime": {
     "end_time": "2021-03-03T06:41:55.828533Z",
     "start_time": "2021-03-03T06:41:55.811475Z"
    }
   },
   "outputs": [
    {
     "data": {
      "text/html": [
       "<div>\n",
       "<style scoped>\n",
       "    .dataframe tbody tr th:only-of-type {\n",
       "        vertical-align: middle;\n",
       "    }\n",
       "\n",
       "    .dataframe tbody tr th {\n",
       "        vertical-align: top;\n",
       "    }\n",
       "\n",
       "    .dataframe thead th {\n",
       "        text-align: right;\n",
       "    }\n",
       "</style>\n",
       "<table border=\"1\" class=\"dataframe\">\n",
       "  <thead>\n",
       "    <tr style=\"text-align: right;\">\n",
       "      <th></th>\n",
       "      <th>t</th>\n",
       "      <th>p</th>\n",
       "    </tr>\n",
       "  </thead>\n",
       "  <tbody>\n",
       "    <tr>\n",
       "      <th>mean_AU01</th>\n",
       "      <td>6.630503</td>\n",
       "      <td>9.585643e-05</td>\n",
       "    </tr>\n",
       "    <tr>\n",
       "      <th>mean_AU02</th>\n",
       "      <td>32.900581</td>\n",
       "      <td>1.089750e-10</td>\n",
       "    </tr>\n",
       "    <tr>\n",
       "      <th>mean_AU04</th>\n",
       "      <td>7.411417</td>\n",
       "      <td>4.054087e-05</td>\n",
       "    </tr>\n",
       "    <tr>\n",
       "      <th>mean_AU06</th>\n",
       "      <td>50.006273</td>\n",
       "      <td>2.566064e-12</td>\n",
       "    </tr>\n",
       "    <tr>\n",
       "      <th>mean_AU07</th>\n",
       "      <td>27.094823</td>\n",
       "      <td>6.155222e-10</td>\n",
       "    </tr>\n",
       "    <tr>\n",
       "      <th>mean_AU10</th>\n",
       "      <td>55.170538</td>\n",
       "      <td>1.062332e-12</td>\n",
       "    </tr>\n",
       "    <tr>\n",
       "      <th>mean_AU12</th>\n",
       "      <td>712.489793</td>\n",
       "      <td>1.076048e-22</td>\n",
       "    </tr>\n",
       "    <tr>\n",
       "      <th>mean_AU14</th>\n",
       "      <td>16.957212</td>\n",
       "      <td>3.871804e-08</td>\n",
       "    </tr>\n",
       "    <tr>\n",
       "      <th>mean_AU15</th>\n",
       "      <td>6.923634</td>\n",
       "      <td>6.883327e-05</td>\n",
       "    </tr>\n",
       "    <tr>\n",
       "      <th>mean_AU17</th>\n",
       "      <td>8.490694</td>\n",
       "      <td>1.371510e-05</td>\n",
       "    </tr>\n",
       "    <tr>\n",
       "      <th>mean_AU23</th>\n",
       "      <td>4.668994</td>\n",
       "      <td>1.170252e-03</td>\n",
       "    </tr>\n",
       "    <tr>\n",
       "      <th>mean_AU24</th>\n",
       "      <td>4.439722</td>\n",
       "      <td>1.624148e-03</td>\n",
       "    </tr>\n",
       "  </tbody>\n",
       "</table>\n",
       "</div>"
      ],
      "text/plain": [
       "                    t             p\n",
       "mean_AU01    6.630503  9.585643e-05\n",
       "mean_AU02   32.900581  1.089750e-10\n",
       "mean_AU04    7.411417  4.054087e-05\n",
       "mean_AU06   50.006273  2.566064e-12\n",
       "mean_AU07   27.094823  6.155222e-10\n",
       "mean_AU10   55.170538  1.062332e-12\n",
       "mean_AU12  712.489793  1.076048e-22\n",
       "mean_AU14   16.957212  3.871804e-08\n",
       "mean_AU15    6.923634  6.883327e-05\n",
       "mean_AU17    8.490694  1.371510e-05\n",
       "mean_AU23    4.668994  1.170252e-03\n",
       "mean_AU24    4.439722  1.624148e-03"
      ]
     },
     "execution_count": 64,
     "metadata": {},
     "output_type": "execute_result"
    }
   ],
   "source": [
    "average_au_intensity_per_video.sessions = average_au_intensity_per_video.index.map(input_class_map)\n",
    "t, p = average_au_intensity_per_video.iloc[:10].aus().ttest()\n",
    "pd.DataFrame({\"t\": t, \"p\": p}, index= average_au_intensity_per_video.au_columns)"
   ]
  },
  {
   "cell_type": "markdown",
   "metadata": {},
   "source": [
    "## Prediction"
   ]
  },
  {
   "cell_type": "code",
   "execution_count": 32,
   "metadata": {
    "ExecuteTime": {
     "end_time": "2021-03-03T06:34:43.352072Z",
     "start_time": "2021-03-03T06:34:43.334338Z"
    }
   },
   "outputs": [
    {
     "name": "stdout",
     "output_type": "stream",
     "text": [
      "score:  0.9334741288278775\n",
      "coefficients: \n"
     ]
    },
    {
     "data": {
      "text/html": [
       "<div>\n",
       "<style scoped>\n",
       "    .dataframe tbody tr th:only-of-type {\n",
       "        vertical-align: middle;\n",
       "    }\n",
       "\n",
       "    .dataframe tbody tr th {\n",
       "        vertical-align: top;\n",
       "    }\n",
       "\n",
       "    .dataframe thead th {\n",
       "        text-align: right;\n",
       "    }\n",
       "</style>\n",
       "<table border=\"1\" class=\"dataframe\">\n",
       "  <thead>\n",
       "    <tr style=\"text-align: right;\">\n",
       "      <th></th>\n",
       "      <th>anger</th>\n",
       "      <th>disgust</th>\n",
       "      <th>fear</th>\n",
       "      <th>happiness</th>\n",
       "      <th>sadness</th>\n",
       "      <th>surprise</th>\n",
       "      <th>neutral</th>\n",
       "    </tr>\n",
       "  </thead>\n",
       "  <tbody>\n",
       "    <tr>\n",
       "      <th>0</th>\n",
       "      <td>0.722285</td>\n",
       "      <td>0.566583</td>\n",
       "      <td>2.868222</td>\n",
       "      <td>-8.24894</td>\n",
       "      <td>2.434085</td>\n",
       "      <td>0.096825</td>\n",
       "      <td>3.030539</td>\n",
       "    </tr>\n",
       "  </tbody>\n",
       "</table>\n",
       "</div>"
      ],
      "text/plain": [
       "      anger   disgust      fear  happiness   sadness  surprise   neutral\n",
       "0  0.722285  0.566583  2.868222   -8.24894  2.434085  0.096825  3.030539"
      ]
     },
     "metadata": {},
     "output_type": "display_data"
    }
   ],
   "source": [
    "fex.sessions = fex.input().map(input_class_map)\n",
    "\n",
    "from sklearn.linear_model import LogisticRegression\n",
    "clf = fex.predict(X=fex.emotions(), y = fex.sessions, model = LogisticRegression, solver=\"liblinear\")\n",
    "print(\"score: \", clf.score(fex.emotions(), fex.sessions))\n",
    "print(\"coefficients: \")\n",
    "display(pd.DataFrame(clf.coef_, columns = fex.emotions().columns))"
   ]
  },
  {
   "cell_type": "code",
   "execution_count": 33,
   "metadata": {
    "ExecuteTime": {
     "end_time": "2021-03-03T06:34:45.560454Z",
     "start_time": "2021-03-03T06:34:45.542163Z"
    }
   },
   "outputs": [
    {
     "name": "stdout",
     "output_type": "stream",
     "text": [
      "score:  0.8331573389651531\n",
      "coefficients: \n"
     ]
    },
    {
     "data": {
      "text/html": [
       "<div>\n",
       "<style scoped>\n",
       "    .dataframe tbody tr th:only-of-type {\n",
       "        vertical-align: middle;\n",
       "    }\n",
       "\n",
       "    .dataframe tbody tr th {\n",
       "        vertical-align: top;\n",
       "    }\n",
       "\n",
       "    .dataframe thead th {\n",
       "        text-align: right;\n",
       "    }\n",
       "</style>\n",
       "<table border=\"1\" class=\"dataframe\">\n",
       "  <thead>\n",
       "    <tr style=\"text-align: right;\">\n",
       "      <th></th>\n",
       "      <th>AU01</th>\n",
       "      <th>AU02</th>\n",
       "      <th>AU04</th>\n",
       "      <th>AU06</th>\n",
       "      <th>AU07</th>\n",
       "      <th>AU10</th>\n",
       "      <th>AU12</th>\n",
       "      <th>AU14</th>\n",
       "      <th>AU15</th>\n",
       "      <th>AU17</th>\n",
       "      <th>AU23</th>\n",
       "      <th>AU24</th>\n",
       "    </tr>\n",
       "  </thead>\n",
       "  <tbody>\n",
       "    <tr>\n",
       "      <th>0</th>\n",
       "      <td>-0.042668</td>\n",
       "      <td>-0.669198</td>\n",
       "      <td>-1.326025</td>\n",
       "      <td>-1.102651</td>\n",
       "      <td>-1.671964</td>\n",
       "      <td>-4.342783</td>\n",
       "      <td>2.817245</td>\n",
       "      <td>1.133602</td>\n",
       "      <td>-0.801147</td>\n",
       "      <td>0.004</td>\n",
       "      <td>-0.719024</td>\n",
       "      <td>0.000995</td>\n",
       "    </tr>\n",
       "  </tbody>\n",
       "</table>\n",
       "</div>"
      ],
      "text/plain": [
       "       AU01      AU02      AU04      AU06      AU07      AU10      AU12  \\\n",
       "0 -0.042668 -0.669198 -1.326025 -1.102651 -1.671964 -4.342783  2.817245   \n",
       "\n",
       "       AU14      AU15   AU17      AU23      AU24  \n",
       "0  1.133602 -0.801147  0.004 -0.719024  0.000995  "
      ]
     },
     "metadata": {},
     "output_type": "display_data"
    }
   ],
   "source": [
    "from sklearn.linear_model import LogisticRegression\n",
    "clf = fex.predict(X=fex.aus(), y = fex.sessions, model = LogisticRegression, solver=\"liblinear\")\n",
    "print(\"score: \", clf.score(fex.aus(), fex.sessions))\n",
    "print(\"coefficients: \")\n",
    "display(pd.DataFrame(clf.coef_, columns = fex.aus().columns))"
   ]
  },
  {
   "cell_type": "markdown",
   "metadata": {},
   "source": [
    "# Regression"
   ]
  },
  {
   "cell_type": "code",
   "execution_count": 38,
   "metadata": {
    "ExecuteTime": {
     "end_time": "2021-03-03T06:35:51.731452Z",
     "start_time": "2021-03-03T06:35:51.702705Z"
    }
   },
   "outputs": [
    {
     "name": "stdout",
     "output_type": "stream",
     "text": [
      "Betas predicting good news\n"
     ]
    },
    {
     "name": "stderr",
     "output_type": "stream",
     "text": [
      "/home/jcheong/anaconda3/lib/python3.8/site-packages/nltools/stats.py:970: FutureWarning: Support for multi-dimensional indexing (e.g. `obj[:, None]`) is deprecated and will be removed in a future version.  Convert to a numpy array before indexing instead.\n",
      "  stderr = np.sqrt(np.diag(np.linalg.pinv(np.dot(X.T, X))))[:, np.newaxis] * sigma[np.newaxis, :]\n"
     ]
    },
    {
     "data": {
      "text/html": [
       "<div>\n",
       "<style scoped>\n",
       "    .dataframe tbody tr th:only-of-type {\n",
       "        vertical-align: middle;\n",
       "    }\n",
       "\n",
       "    .dataframe tbody tr th {\n",
       "        vertical-align: top;\n",
       "    }\n",
       "\n",
       "    .dataframe thead th {\n",
       "        text-align: right;\n",
       "    }\n",
       "</style>\n",
       "<table border=\"1\" class=\"dataframe\">\n",
       "  <thead>\n",
       "    <tr style=\"text-align: right;\">\n",
       "      <th></th>\n",
       "      <th>anger</th>\n",
       "      <th>disgust</th>\n",
       "      <th>fear</th>\n",
       "      <th>happiness</th>\n",
       "      <th>sadness</th>\n",
       "      <th>surprise</th>\n",
       "      <th>neutral</th>\n",
       "    </tr>\n",
       "  </thead>\n",
       "  <tbody>\n",
       "    <tr>\n",
       "      <th>0</th>\n",
       "      <td>-0.018</td>\n",
       "      <td>-0.015</td>\n",
       "      <td>-0.088</td>\n",
       "      <td>0.619</td>\n",
       "      <td>-0.088</td>\n",
       "      <td>-0.34</td>\n",
       "      <td>-0.07</td>\n",
       "    </tr>\n",
       "  </tbody>\n",
       "</table>\n",
       "</div>"
      ],
      "text/plain": [
       "   anger  disgust   fear  happiness  sadness  surprise  neutral\n",
       "0 -0.018   -0.015 -0.088      0.619   -0.088     -0.34    -0.07"
      ]
     },
     "metadata": {},
     "output_type": "display_data"
    }
   ],
   "source": [
    "fex.sessions = fex.input().map(input_class_map).replace({\"gn\":.5, \"ists\":-.5})\n",
    "X = pd.DataFrame(fex.sessions)\n",
    "X['intercept'] = 1\n",
    "b, t, p, df, residuals = fex.regress(X = X, y = fex.emotions())\n",
    "print(\"Betas predicting good news estimated for each emotion.\")\n",
    "display(b.round(3).loc[[0]])"
   ]
  },
  {
   "cell_type": "code",
   "execution_count": 40,
   "metadata": {
    "ExecuteTime": {
     "end_time": "2021-03-03T06:36:41.142384Z",
     "start_time": "2021-03-03T06:36:41.120524Z"
    }
   },
   "outputs": [
    {
     "name": "stdout",
     "output_type": "stream",
     "text": [
      "Betas predicting good news estimated for each AU.\n"
     ]
    },
    {
     "name": "stderr",
     "output_type": "stream",
     "text": [
      "/home/jcheong/anaconda3/lib/python3.8/site-packages/nltools/stats.py:970: FutureWarning: Support for multi-dimensional indexing (e.g. `obj[:, None]`) is deprecated and will be removed in a future version.  Convert to a numpy array before indexing instead.\n",
      "  stderr = np.sqrt(np.diag(np.linalg.pinv(np.dot(X.T, X))))[:, np.newaxis] * sigma[np.newaxis, :]\n"
     ]
    },
    {
     "data": {
      "text/html": [
       "<div>\n",
       "<style scoped>\n",
       "    .dataframe tbody tr th:only-of-type {\n",
       "        vertical-align: middle;\n",
       "    }\n",
       "\n",
       "    .dataframe tbody tr th {\n",
       "        vertical-align: top;\n",
       "    }\n",
       "\n",
       "    .dataframe thead th {\n",
       "        text-align: right;\n",
       "    }\n",
       "</style>\n",
       "<table border=\"1\" class=\"dataframe\">\n",
       "  <thead>\n",
       "    <tr style=\"text-align: right;\">\n",
       "      <th></th>\n",
       "      <th>AU01</th>\n",
       "      <th>AU02</th>\n",
       "      <th>AU04</th>\n",
       "      <th>AU06</th>\n",
       "      <th>AU07</th>\n",
       "      <th>AU10</th>\n",
       "      <th>AU12</th>\n",
       "      <th>AU14</th>\n",
       "      <th>AU15</th>\n",
       "      <th>AU17</th>\n",
       "      <th>AU23</th>\n",
       "      <th>AU24</th>\n",
       "    </tr>\n",
       "  </thead>\n",
       "  <tbody>\n",
       "    <tr>\n",
       "      <th>0</th>\n",
       "      <td>0.074</td>\n",
       "      <td>0.111</td>\n",
       "      <td>0.066</td>\n",
       "      <td>0.222</td>\n",
       "      <td>0.246</td>\n",
       "      <td>0.34</td>\n",
       "      <td>-0.004</td>\n",
       "      <td>-0.095</td>\n",
       "      <td>-0.011</td>\n",
       "      <td>-0.0</td>\n",
       "      <td>0.011</td>\n",
       "      <td>0.0</td>\n",
       "    </tr>\n",
       "  </tbody>\n",
       "</table>\n",
       "</div>"
      ],
      "text/plain": [
       "    AU01   AU02   AU04   AU06   AU07  AU10   AU12   AU14   AU15  AU17   AU23  \\\n",
       "0  0.074  0.111  0.066  0.222  0.246  0.34 -0.004 -0.095 -0.011  -0.0  0.011   \n",
       "\n",
       "   AU24  \n",
       "0   0.0  "
      ]
     },
     "metadata": {},
     "output_type": "display_data"
    }
   ],
   "source": [
    "fex.sessions = fex.input().map(input_class_map).replace({\"gn\":.5, \"ists\":-.5})\n",
    "X = pd.DataFrame(fex.sessions)\n",
    "X['intercept'] = 1\n",
    "b, t, p, df, residuals = fex.regress(X = X, y = fex.aus())\n",
    "print(\"Betas predicting good news estimated for each AU.\")\n",
    "display(b.round(3).loc[[0]])"
   ]
  }
 ],
 "metadata": {
  "kernelspec": {
   "display_name": "Python 3",
   "language": "python",
   "name": "python3"
  },
  "language_info": {
   "codemirror_mode": {
    "name": "ipython",
    "version": 3
   },
   "file_extension": ".py",
   "mimetype": "text/x-python",
   "name": "python",
   "nbconvert_exporter": "python",
   "pygments_lexer": "ipython3",
   "version": "3.8.5"
  }
 },
 "nbformat": 4,
 "nbformat_minor": 4
}