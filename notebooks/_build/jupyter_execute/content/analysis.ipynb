{
 "cells": [
  {
   "cell_type": "markdown",
   "metadata": {},
   "source": [
    "# Preprocessing FEX data\n",
    "\n",
    "## How to preprocess and analyze facial expression data with Feat.\n",
    "\n",
    "*Written by Jin Hyun Cheong*\n",
    "\n",
    "Here we will be using a sample dataset by David Watson on [\"A Data-Driven Characterisation Of Natural Facial Expressions When Giving Good And Bad News\"](https://journals.plos.org/ploscompbiol/article/peerReview?id=10.1371/journal.pcbi.1008335) by Watson & Johnston 2020. The full dataset is available on [OSF](https://osf.io/6tbwj/).\n",
    "\n",
    "Let's start by installing Py-FEAT if you have not already done so or using this on Google Colab"
   ]
  },
  {
   "cell_type": "code",
   "execution_count": null,
   "metadata": {},
   "outputs": [],
   "source": [
    "!pip install -q py-feat"
   ]
  },
  {
   "cell_type": "markdown",
   "metadata": {},
   "source": [
    "First, we download the necessary files & videos. "
   ]
  },
  {
   "cell_type": "code",
   "execution_count": 1,
   "metadata": {
    "ExecuteTime": {
     "end_time": "2021-03-24T18:48:13.620297Z",
     "start_time": "2021-03-24T18:47:30.513392Z"
    }
   },
   "outputs": [],
   "source": [
    "import subprocess\n",
    "files_to_download = [\"4c5mb\", \"n6rt3\", \"3gh8v\", \"twqxs\", \"nc7d9\", \"nrwcm\", \"2rk9c\", \"mxkzq\", \"c2na7\", \"wj7zy\", \"mxywn\", \n",
    "                     \"6bn3g\", \"jkwsp\", \"54gtv\", \"c3hpm\", \"utdqj\", \"hpw4a\", \"94swe\", \"qte5y\", \"aykvu\", \"3d5ry\"]\n",
    "\n",
    "for fid in files_to_download:\n",
    "    subprocess.run(f\"wget --content-disposition https://osf.io/{fid}/download\".split())"
   ]
  },
  {
   "cell_type": "markdown",
   "metadata": {},
   "source": [
    "Check that videos have been downloaded and the attributes file, `clip_attrs.csv) explaining "
   ]
  },
  {
   "cell_type": "code",
   "execution_count": 2,
   "metadata": {
    "ExecuteTime": {
     "end_time": "2021-03-26T01:35:57.204484Z",
     "start_time": "2021-03-26T01:35:56.969949Z"
    }
   },
   "outputs": [
    {
     "name": "stdout",
     "output_type": "stream",
     "text": [
      "['001.mp4' '002.mp4' '003.mp4' '004.mp4' '005.mp4' '006.mp4' '007.mp4'\n",
      " '008.mp4' '009.mp4' '010.mp4' '011.mp4' '012.mp4' '013.mp4' '014.mp4'\n",
      " '015.mp4' '016.mp4' '017.mp4' '018.mp4' '019.mp4' '020.mp4']\n"
     ]
    }
   ],
   "source": [
    "import os, glob\n",
    "import numpy as np\n",
    "import pandas as pd\n",
    "import seaborn as sns\n",
    "sns.set_context(\"talk\")\n",
    "\n",
    "clip_attrs = pd.read_csv(\"clip_attrs.csv\")\n",
    "videos = np.sort(glob.glob(\"*.mp4\"))\n",
    "print(videos)"
   ]
  },
  {
   "cell_type": "markdown",
   "metadata": {
    "ExecuteTime": {
     "end_time": "2021-03-03T06:01:04.796083Z",
     "start_time": "2021-03-03T06:01:04.789842Z"
    }
   },
   "source": [
    "Process each video using our detector. "
   ]
  },
  {
   "cell_type": "code",
   "execution_count": null,
   "metadata": {
    "ExecuteTime": {
     "end_time": "2021-03-24T18:54:19.816980Z",
     "start_time": "2021-03-24T18:48:21.412688Z"
    },
    "scrolled": true
   },
   "outputs": [],
   "source": [
    "from feat import Detector\n",
    "detector = Detector(au_model = \"rf\", emotion_model = \"resmasknet\")\n",
    "for video in videos: \n",
    "    detector.detect_video(video, outputFname = video.replace(\".mp4\", \".csv\"))"
   ]
  },
  {
   "cell_type": "code",
   "execution_count": 3,
   "metadata": {
    "ExecuteTime": {
     "end_time": "2021-03-26T01:36:04.630894Z",
     "start_time": "2021-03-26T01:36:02.098727Z"
    }
   },
   "outputs": [],
   "source": [
    "from feat.utils import read_feat\n",
    "import pandas as pd\n",
    "\n",
    "for ix ,video in enumerate(videos):\n",
    "    outputF = video.replace(\".mp4\", \".csv\")\n",
    "    if ix == 0: \n",
    "        fex = read_feat(outputF)\n",
    "    else:\n",
    "        fex = pd.concat([fex, read_feat(outputF)])\n",
    "fex = fex.dropna()"
   ]
  },
  {
   "cell_type": "code",
   "execution_count": 4,
   "metadata": {
    "ExecuteTime": {
     "end_time": "2021-03-26T01:36:04.662326Z",
     "start_time": "2021-03-26T01:36:04.632024Z"
    }
   },
   "outputs": [
    {
     "data": {
      "text/html": [
       "<div>\n",
       "<style scoped>\n",
       "    .dataframe tbody tr th:only-of-type {\n",
       "        vertical-align: middle;\n",
       "    }\n",
       "\n",
       "    .dataframe tbody tr th {\n",
       "        vertical-align: top;\n",
       "    }\n",
       "\n",
       "    .dataframe thead th {\n",
       "        text-align: right;\n",
       "    }\n",
       "</style>\n",
       "<table border=\"1\" class=\"dataframe\">\n",
       "  <thead>\n",
       "    <tr style=\"text-align: right;\">\n",
       "      <th></th>\n",
       "      <th>clipN</th>\n",
       "      <th>class</th>\n",
       "      <th>phraseN</th>\n",
       "      <th>phrase_txt</th>\n",
       "      <th>input</th>\n",
       "      <th>condition</th>\n",
       "    </tr>\n",
       "  </thead>\n",
       "  <tbody>\n",
       "    <tr>\n",
       "      <th>0</th>\n",
       "      <td>1</td>\n",
       "      <td>gn</td>\n",
       "      <td>1</td>\n",
       "      <td>your loan has been approved</td>\n",
       "      <td>001.mp4</td>\n",
       "      <td>goodNews</td>\n",
       "    </tr>\n",
       "    <tr>\n",
       "      <th>1</th>\n",
       "      <td>2</td>\n",
       "      <td>gn</td>\n",
       "      <td>2</td>\n",
       "      <td>you've got the job</td>\n",
       "      <td>002.mp4</td>\n",
       "      <td>goodNews</td>\n",
       "    </tr>\n",
       "    <tr>\n",
       "      <th>2</th>\n",
       "      <td>3</td>\n",
       "      <td>gn</td>\n",
       "      <td>3</td>\n",
       "      <td>the vendor has accepted your offer</td>\n",
       "      <td>003.mp4</td>\n",
       "      <td>goodNews</td>\n",
       "    </tr>\n",
       "    <tr>\n",
       "      <th>3</th>\n",
       "      <td>4</td>\n",
       "      <td>gn</td>\n",
       "      <td>4</td>\n",
       "      <td>your tests have come back clear</td>\n",
       "      <td>004.mp4</td>\n",
       "      <td>goodNews</td>\n",
       "    </tr>\n",
       "    <tr>\n",
       "      <th>4</th>\n",
       "      <td>5</td>\n",
       "      <td>gn</td>\n",
       "      <td>5</td>\n",
       "      <td>your application has been accepted</td>\n",
       "      <td>005.mp4</td>\n",
       "      <td>goodNews</td>\n",
       "    </tr>\n",
       "  </tbody>\n",
       "</table>\n",
       "</div>"
      ],
      "text/plain": [
       "   clipN class  phraseN                          phrase_txt    input condition\n",
       "0      1    gn        1         your loan has been approved  001.mp4  goodNews\n",
       "1      2    gn        2                  you've got the job  002.mp4  goodNews\n",
       "2      3    gn        3  the vendor has accepted your offer  003.mp4  goodNews\n",
       "3      4    gn        4     your tests have come back clear  004.mp4  goodNews\n",
       "4      5    gn        5  your application has been accepted  005.mp4  goodNews"
      ]
     },
     "execution_count": 4,
     "metadata": {},
     "output_type": "execute_result"
    }
   ],
   "source": [
    "# Load in conditions\n",
    "clip_attrs = pd.read_csv(\"clip_attrs.csv\")\n",
    "clip_attrs = clip_attrs.assign(input = clip_attrs.clipN.apply(lambda x: str(x).zfill(3)+\".mp4\"),\n",
    "                               condition = clip_attrs['class'].replace({\"gn\":\"goodNews\", \"ists\":\"badNews\"}))\n",
    "input_class_map = dict(zip(clip_attrs.input, clip_attrs['condition']))\n",
    "clip_attrs.head()"
   ]
  },
  {
   "cell_type": "markdown",
   "metadata": {},
   "source": [
    "## Extract features\n",
    "You can set the `sessions` attribute to provide a grouping of your experimental setup. This could be the name of each video if you want to extract features per video or it could be conditions to extract features per condition. "
   ]
  },
  {
   "cell_type": "code",
   "execution_count": 5,
   "metadata": {
    "ExecuteTime": {
     "end_time": "2021-03-26T01:36:04.916876Z",
     "start_time": "2021-03-26T01:36:04.663369Z"
    }
   },
   "outputs": [
    {
     "data": {
      "text/html": [
       "<div>\n",
       "<style scoped>\n",
       "    .dataframe tbody tr th:only-of-type {\n",
       "        vertical-align: middle;\n",
       "    }\n",
       "\n",
       "    .dataframe tbody tr th {\n",
       "        vertical-align: top;\n",
       "    }\n",
       "\n",
       "    .dataframe thead th {\n",
       "        text-align: right;\n",
       "    }\n",
       "</style>\n",
       "<table border=\"1\" class=\"dataframe\">\n",
       "  <thead>\n",
       "    <tr style=\"text-align: right;\">\n",
       "      <th></th>\n",
       "      <th>mean_AU01</th>\n",
       "      <th>mean_AU02</th>\n",
       "      <th>mean_AU04</th>\n",
       "      <th>mean_AU05</th>\n",
       "      <th>mean_AU06</th>\n",
       "      <th>mean_AU07</th>\n",
       "      <th>mean_AU09</th>\n",
       "      <th>mean_AU10</th>\n",
       "      <th>mean_AU11</th>\n",
       "      <th>mean_AU12</th>\n",
       "      <th>...</th>\n",
       "      <th>mean_y_61</th>\n",
       "      <th>mean_y_62</th>\n",
       "      <th>mean_y_63</th>\n",
       "      <th>mean_y_64</th>\n",
       "      <th>mean_y_65</th>\n",
       "      <th>mean_y_66</th>\n",
       "      <th>mean_y_67</th>\n",
       "      <th>mean_y_7</th>\n",
       "      <th>mean_y_8</th>\n",
       "      <th>mean_y_9</th>\n",
       "    </tr>\n",
       "  </thead>\n",
       "  <tbody>\n",
       "    <tr>\n",
       "      <th>badNews</th>\n",
       "      <td>0.370603</td>\n",
       "      <td>0.347909</td>\n",
       "      <td>0.274446</td>\n",
       "      <td>0.470608</td>\n",
       "      <td>0.144680</td>\n",
       "      <td>0.350956</td>\n",
       "      <td>0.057206</td>\n",
       "      <td>0.367228</td>\n",
       "      <td>0.414330</td>\n",
       "      <td>0.245751</td>\n",
       "      <td>...</td>\n",
       "      <td>714.571030</td>\n",
       "      <td>715.994335</td>\n",
       "      <td>711.230906</td>\n",
       "      <td>703.585629</td>\n",
       "      <td>715.312303</td>\n",
       "      <td>720.341735</td>\n",
       "      <td>718.979703</td>\n",
       "      <td>823.783636</td>\n",
       "      <td>827.212203</td>\n",
       "      <td>813.770216</td>\n",
       "    </tr>\n",
       "    <tr>\n",
       "      <th>goodNews</th>\n",
       "      <td>0.437070</td>\n",
       "      <td>0.399585</td>\n",
       "      <td>0.209061</td>\n",
       "      <td>0.219561</td>\n",
       "      <td>0.641241</td>\n",
       "      <td>0.642395</td>\n",
       "      <td>0.161864</td>\n",
       "      <td>0.775689</td>\n",
       "      <td>0.412116</td>\n",
       "      <td>0.814605</td>\n",
       "      <td>...</td>\n",
       "      <td>684.355943</td>\n",
       "      <td>686.797688</td>\n",
       "      <td>683.110011</td>\n",
       "      <td>676.147267</td>\n",
       "      <td>693.425396</td>\n",
       "      <td>697.551264</td>\n",
       "      <td>695.402943</td>\n",
       "      <td>810.933791</td>\n",
       "      <td>817.027471</td>\n",
       "      <td>806.257672</td>\n",
       "    </tr>\n",
       "  </tbody>\n",
       "</table>\n",
       "<p>2 rows × 169 columns</p>\n",
       "</div>"
      ],
      "text/plain": [
       "          mean_AU01  mean_AU02  mean_AU04  mean_AU05  mean_AU06  mean_AU07  \\\n",
       "badNews    0.370603   0.347909   0.274446   0.470608   0.144680   0.350956   \n",
       "goodNews   0.437070   0.399585   0.209061   0.219561   0.641241   0.642395   \n",
       "\n",
       "          mean_AU09  mean_AU10  mean_AU11  mean_AU12  ...   mean_y_61  \\\n",
       "badNews    0.057206   0.367228   0.414330   0.245751  ...  714.571030   \n",
       "goodNews   0.161864   0.775689   0.412116   0.814605  ...  684.355943   \n",
       "\n",
       "           mean_y_62   mean_y_63   mean_y_64   mean_y_65   mean_y_66  \\\n",
       "badNews   715.994335  711.230906  703.585629  715.312303  720.341735   \n",
       "goodNews  686.797688  683.110011  676.147267  693.425396  697.551264   \n",
       "\n",
       "           mean_y_67    mean_y_7    mean_y_8    mean_y_9  \n",
       "badNews   718.979703  823.783636  827.212203  813.770216  \n",
       "goodNews  695.402943  810.933791  817.027471  806.257672  \n",
       "\n",
       "[2 rows x 169 columns]"
      ]
     },
     "metadata": {},
     "output_type": "display_data"
    }
   ],
   "source": [
    "# Extract conditions between the two condtiiosn (gn: good news, ists: bad news)\n",
    "conditions = dict(zip(clip_attrs.input, clip_attrs['condition']))\n",
    "fex.sessions = fex.input().map(conditions)\n",
    "average_au_intensity_per_video = fex.extract_mean()\n",
    "display(average_au_intensity_per_video.head())"
   ]
  },
  {
   "cell_type": "markdown",
   "metadata": {},
   "source": [
    "Or simply extract features per video"
   ]
  },
  {
   "cell_type": "code",
   "execution_count": 6,
   "metadata": {
    "ExecuteTime": {
     "end_time": "2021-03-26T01:36:05.612696Z",
     "start_time": "2021-03-26T01:36:04.917989Z"
    }
   },
   "outputs": [
    {
     "data": {
      "text/html": [
       "<div>\n",
       "<style scoped>\n",
       "    .dataframe tbody tr th:only-of-type {\n",
       "        vertical-align: middle;\n",
       "    }\n",
       "\n",
       "    .dataframe tbody tr th {\n",
       "        vertical-align: top;\n",
       "    }\n",
       "\n",
       "    .dataframe thead th {\n",
       "        text-align: right;\n",
       "    }\n",
       "</style>\n",
       "<table border=\"1\" class=\"dataframe\">\n",
       "  <thead>\n",
       "    <tr style=\"text-align: right;\">\n",
       "      <th></th>\n",
       "      <th>mean_AU01</th>\n",
       "      <th>mean_AU02</th>\n",
       "      <th>mean_AU04</th>\n",
       "      <th>mean_AU05</th>\n",
       "      <th>mean_AU06</th>\n",
       "      <th>mean_AU07</th>\n",
       "      <th>mean_AU09</th>\n",
       "      <th>mean_AU10</th>\n",
       "      <th>mean_AU11</th>\n",
       "      <th>mean_AU12</th>\n",
       "      <th>...</th>\n",
       "      <th>mean_y_61</th>\n",
       "      <th>mean_y_62</th>\n",
       "      <th>mean_y_63</th>\n",
       "      <th>mean_y_64</th>\n",
       "      <th>mean_y_65</th>\n",
       "      <th>mean_y_66</th>\n",
       "      <th>mean_y_67</th>\n",
       "      <th>mean_y_7</th>\n",
       "      <th>mean_y_8</th>\n",
       "      <th>mean_y_9</th>\n",
       "    </tr>\n",
       "  </thead>\n",
       "  <tbody>\n",
       "    <tr>\n",
       "      <th>001.mp4</th>\n",
       "      <td>0.367902</td>\n",
       "      <td>0.304953</td>\n",
       "      <td>0.217278</td>\n",
       "      <td>0.247205</td>\n",
       "      <td>0.529641</td>\n",
       "      <td>0.546710</td>\n",
       "      <td>0.127434</td>\n",
       "      <td>0.689482</td>\n",
       "      <td>0.405150</td>\n",
       "      <td>0.757060</td>\n",
       "      <td>...</td>\n",
       "      <td>694.305659</td>\n",
       "      <td>696.236139</td>\n",
       "      <td>692.150659</td>\n",
       "      <td>682.592831</td>\n",
       "      <td>696.408174</td>\n",
       "      <td>700.882806</td>\n",
       "      <td>699.187324</td>\n",
       "      <td>814.856982</td>\n",
       "      <td>819.742603</td>\n",
       "      <td>808.427911</td>\n",
       "    </tr>\n",
       "    <tr>\n",
       "      <th>002.mp4</th>\n",
       "      <td>0.384290</td>\n",
       "      <td>0.372414</td>\n",
       "      <td>0.218073</td>\n",
       "      <td>0.238233</td>\n",
       "      <td>0.466245</td>\n",
       "      <td>0.568260</td>\n",
       "      <td>0.139705</td>\n",
       "      <td>0.645774</td>\n",
       "      <td>0.406103</td>\n",
       "      <td>0.665162</td>\n",
       "      <td>...</td>\n",
       "      <td>686.464658</td>\n",
       "      <td>688.592334</td>\n",
       "      <td>685.344299</td>\n",
       "      <td>677.572549</td>\n",
       "      <td>688.540245</td>\n",
       "      <td>692.234408</td>\n",
       "      <td>690.349490</td>\n",
       "      <td>806.882534</td>\n",
       "      <td>812.669819</td>\n",
       "      <td>802.669351</td>\n",
       "    </tr>\n",
       "    <tr>\n",
       "      <th>003.mp4</th>\n",
       "      <td>0.475926</td>\n",
       "      <td>0.435061</td>\n",
       "      <td>0.193346</td>\n",
       "      <td>0.235034</td>\n",
       "      <td>0.628517</td>\n",
       "      <td>0.614398</td>\n",
       "      <td>0.130048</td>\n",
       "      <td>0.758156</td>\n",
       "      <td>0.406965</td>\n",
       "      <td>0.822223</td>\n",
       "      <td>...</td>\n",
       "      <td>678.527397</td>\n",
       "      <td>681.056783</td>\n",
       "      <td>677.828855</td>\n",
       "      <td>672.959971</td>\n",
       "      <td>688.190226</td>\n",
       "      <td>691.792301</td>\n",
       "      <td>689.539840</td>\n",
       "      <td>803.369594</td>\n",
       "      <td>810.371285</td>\n",
       "      <td>800.508759</td>\n",
       "    </tr>\n",
       "    <tr>\n",
       "      <th>004.mp4</th>\n",
       "      <td>0.465396</td>\n",
       "      <td>0.431265</td>\n",
       "      <td>0.215378</td>\n",
       "      <td>0.136780</td>\n",
       "      <td>0.719656</td>\n",
       "      <td>0.712953</td>\n",
       "      <td>0.195271</td>\n",
       "      <td>0.852897</td>\n",
       "      <td>0.413281</td>\n",
       "      <td>0.888342</td>\n",
       "      <td>...</td>\n",
       "      <td>682.179613</td>\n",
       "      <td>684.565805</td>\n",
       "      <td>680.513723</td>\n",
       "      <td>674.068777</td>\n",
       "      <td>694.367983</td>\n",
       "      <td>698.833575</td>\n",
       "      <td>696.740101</td>\n",
       "      <td>811.564575</td>\n",
       "      <td>817.511093</td>\n",
       "      <td>806.248735</td>\n",
       "    </tr>\n",
       "    <tr>\n",
       "      <th>005.mp4</th>\n",
       "      <td>0.358873</td>\n",
       "      <td>0.346983</td>\n",
       "      <td>0.196898</td>\n",
       "      <td>0.132950</td>\n",
       "      <td>0.729992</td>\n",
       "      <td>0.724506</td>\n",
       "      <td>0.230352</td>\n",
       "      <td>0.844839</td>\n",
       "      <td>0.421897</td>\n",
       "      <td>0.883427</td>\n",
       "      <td>...</td>\n",
       "      <td>701.603967</td>\n",
       "      <td>703.849507</td>\n",
       "      <td>699.122215</td>\n",
       "      <td>687.917109</td>\n",
       "      <td>711.293560</td>\n",
       "      <td>716.390717</td>\n",
       "      <td>714.357210</td>\n",
       "      <td>827.466633</td>\n",
       "      <td>833.453529</td>\n",
       "      <td>821.740933</td>\n",
       "    </tr>\n",
       "  </tbody>\n",
       "</table>\n",
       "<p>5 rows × 169 columns</p>\n",
       "</div>"
      ],
      "text/plain": [
       "         mean_AU01  mean_AU02  mean_AU04  mean_AU05  mean_AU06  mean_AU07  \\\n",
       "001.mp4   0.367902   0.304953   0.217278   0.247205   0.529641   0.546710   \n",
       "002.mp4   0.384290   0.372414   0.218073   0.238233   0.466245   0.568260   \n",
       "003.mp4   0.475926   0.435061   0.193346   0.235034   0.628517   0.614398   \n",
       "004.mp4   0.465396   0.431265   0.215378   0.136780   0.719656   0.712953   \n",
       "005.mp4   0.358873   0.346983   0.196898   0.132950   0.729992   0.724506   \n",
       "\n",
       "         mean_AU09  mean_AU10  mean_AU11  mean_AU12  ...   mean_y_61  \\\n",
       "001.mp4   0.127434   0.689482   0.405150   0.757060  ...  694.305659   \n",
       "002.mp4   0.139705   0.645774   0.406103   0.665162  ...  686.464658   \n",
       "003.mp4   0.130048   0.758156   0.406965   0.822223  ...  678.527397   \n",
       "004.mp4   0.195271   0.852897   0.413281   0.888342  ...  682.179613   \n",
       "005.mp4   0.230352   0.844839   0.421897   0.883427  ...  701.603967   \n",
       "\n",
       "          mean_y_62   mean_y_63   mean_y_64   mean_y_65   mean_y_66  \\\n",
       "001.mp4  696.236139  692.150659  682.592831  696.408174  700.882806   \n",
       "002.mp4  688.592334  685.344299  677.572549  688.540245  692.234408   \n",
       "003.mp4  681.056783  677.828855  672.959971  688.190226  691.792301   \n",
       "004.mp4  684.565805  680.513723  674.068777  694.367983  698.833575   \n",
       "005.mp4  703.849507  699.122215  687.917109  711.293560  716.390717   \n",
       "\n",
       "          mean_y_67    mean_y_7    mean_y_8    mean_y_9  \n",
       "001.mp4  699.187324  814.856982  819.742603  808.427911  \n",
       "002.mp4  690.349490  806.882534  812.669819  802.669351  \n",
       "003.mp4  689.539840  803.369594  810.371285  800.508759  \n",
       "004.mp4  696.740101  811.564575  817.511093  806.248735  \n",
       "005.mp4  714.357210  827.466633  833.453529  821.740933  \n",
       "\n",
       "[5 rows x 169 columns]"
      ]
     },
     "metadata": {},
     "output_type": "display_data"
    }
   ],
   "source": [
    "# Extract features per video\n",
    "fex.sessions = fex.input()\n",
    "average_au_intensity_per_video = fex.extract_mean()\n",
    "display(average_au_intensity_per_video.head())"
   ]
  },
  {
   "cell_type": "markdown",
   "metadata": {},
   "source": [
    "# Analyzing FEX data\n",
    "## Simple t-test\n",
    "You can use a simple t-test to test if the average activation of a certain AU is significantly higher than .5 (chance). The results suggests that AU10 (upper lip raiser), 12 (lip corner puller), and 14 (dimpler) is significantly activitated when providing good news. "
   ]
  },
  {
   "cell_type": "code",
   "execution_count": 11,
   "metadata": {
    "ExecuteTime": {
     "end_time": "2021-03-26T01:37:30.117739Z",
     "start_time": "2021-03-26T01:37:29.898669Z"
    }
   },
   "outputs": [
    {
     "data": {
      "text/html": [
       "<div>\n",
       "<style scoped>\n",
       "    .dataframe tbody tr th:only-of-type {\n",
       "        vertical-align: middle;\n",
       "    }\n",
       "\n",
       "    .dataframe tbody tr th {\n",
       "        vertical-align: top;\n",
       "    }\n",
       "\n",
       "    .dataframe thead th {\n",
       "        text-align: right;\n",
       "    }\n",
       "</style>\n",
       "<table border=\"1\" class=\"dataframe\">\n",
       "  <thead>\n",
       "    <tr style=\"text-align: right;\">\n",
       "      <th></th>\n",
       "      <th>t</th>\n",
       "      <th>p</th>\n",
       "    </tr>\n",
       "  </thead>\n",
       "  <tbody>\n",
       "    <tr>\n",
       "      <th>mean_AU01</th>\n",
       "      <td>-2.927201</td>\n",
       "      <td>1.683346e-02</td>\n",
       "    </tr>\n",
       "    <tr>\n",
       "      <th>mean_AU02</th>\n",
       "      <td>-5.838201</td>\n",
       "      <td>2.473720e-04</td>\n",
       "    </tr>\n",
       "    <tr>\n",
       "      <th>mean_AU04</th>\n",
       "      <td>-49.805912</td>\n",
       "      <td>2.660164e-12</td>\n",
       "    </tr>\n",
       "    <tr>\n",
       "      <th>mean_AU06</th>\n",
       "      <td>3.905366</td>\n",
       "      <td>3.589972e-03</td>\n",
       "    </tr>\n",
       "    <tr>\n",
       "      <th>mean_AU07</th>\n",
       "      <td>5.487334</td>\n",
       "      <td>3.864728e-04</td>\n",
       "    </tr>\n",
       "    <tr>\n",
       "      <th>mean_AU10</th>\n",
       "      <td>10.361594</td>\n",
       "      <td>2.660301e-06</td>\n",
       "    </tr>\n",
       "    <tr>\n",
       "      <th>mean_AU12</th>\n",
       "      <td>11.949046</td>\n",
       "      <td>7.984040e-07</td>\n",
       "    </tr>\n",
       "    <tr>\n",
       "      <th>mean_AU14</th>\n",
       "      <td>23.155621</td>\n",
       "      <td>2.485336e-09</td>\n",
       "    </tr>\n",
       "    <tr>\n",
       "      <th>mean_AU15</th>\n",
       "      <td>-12.587565</td>\n",
       "      <td>5.119202e-07</td>\n",
       "    </tr>\n",
       "    <tr>\n",
       "      <th>mean_AU17</th>\n",
       "      <td>-0.460219</td>\n",
       "      <td>6.562759e-01</td>\n",
       "    </tr>\n",
       "    <tr>\n",
       "      <th>mean_AU23</th>\n",
       "      <td>-0.300423</td>\n",
       "      <td>7.706780e-01</td>\n",
       "    </tr>\n",
       "    <tr>\n",
       "      <th>mean_AU24</th>\n",
       "      <td>-4.533345</td>\n",
       "      <td>1.419377e-03</td>\n",
       "    </tr>\n",
       "  </tbody>\n",
       "</table>\n",
       "</div>"
      ],
      "text/plain": [
       "                   t             p\n",
       "mean_AU01  -2.927201  1.683346e-02\n",
       "mean_AU02  -5.838201  2.473720e-04\n",
       "mean_AU04 -49.805912  2.660164e-12\n",
       "mean_AU06   3.905366  3.589972e-03\n",
       "mean_AU07   5.487334  3.864728e-04\n",
       "mean_AU10  10.361594  2.660301e-06\n",
       "mean_AU12  11.949046  7.984040e-07\n",
       "mean_AU14  23.155621  2.485336e-09\n",
       "mean_AU15 -12.587565  5.119202e-07\n",
       "mean_AU17  -0.460219  6.562759e-01\n",
       "mean_AU23  -0.300423  7.706780e-01\n",
       "mean_AU24  -4.533345  1.419377e-03"
      ]
     },
     "execution_count": 11,
     "metadata": {},
     "output_type": "execute_result"
    }
   ],
   "source": [
    "average_au_intensity_per_video.sessions = average_au_intensity_per_video.index.map(input_class_map)\n",
    "t, p = average_au_intensity_per_video[average_au_intensity_per_video.sessions==\"goodNews\"].aus().ttest_1samp(.5)\n",
    "pd.DataFrame({\"t\": t, \"p\": p}, index= average_au_intensity_per_video.au_columns)"
   ]
  },
  {
   "cell_type": "markdown",
   "metadata": {},
   "source": [
    "# Two sample independent t-test\n",
    "You can also perform an independent two sample ttest between two sessions which in this case is goodNews vs badNews."
   ]
  },
  {
   "cell_type": "code",
   "execution_count": 50,
   "metadata": {
    "ExecuteTime": {
     "end_time": "2021-03-26T01:54:46.741635Z",
     "start_time": "2021-03-26T01:54:46.568587Z"
    }
   },
   "outputs": [
    {
     "name": "stdout",
     "output_type": "stream",
     "text": [
      "T-test between goodNews vs badNews: t=17, p=2.32e-12\n"
     ]
    },
    {
     "data": {
      "image/png": "[encoded data removed]",
      "text/plain": [
       "<Figure size 432x288 with 1 Axes>"
      ]
     },
     "metadata": {
      "filenames": {
       "image/png": "/home/jcheong/packages/feat/notebooks/_build/jupyter_execute/content/analysis_17_1.png"
      },
      "needs_background": "light"
     },
     "output_type": "display_data"
    }
   ],
   "source": [
    "columns2compare = \"mean_AU12\"\n",
    "sessions = (\"goodNews\", \"badNews\")\n",
    "t, p = average_au_intensity_per_video.ttest_ind(col = columns2compare, sessions=sessions)\n",
    "print(f\"T-test between {sessions[0]} vs {sessions[1]}: t={t:.2g}, p={p:.3g}\")\n",
    "sns.barplot(x = average_au_intensity_per_video.sessions, \n",
    "            y = columns2compare, \n",
    "            data = average_au_intensity_per_video);"
   ]
  },
  {
   "cell_type": "markdown",
   "metadata": {},
   "source": [
    "## Prediction\n",
    "If you want to know what combination of features predic the good news or bad news conditions. To investigate this problem, we can train a Logistc Regression model using emotion labels to predict the conditions. Results suggest that detections of happy expressions predict the delivery of good news. "
   ]
  },
  {
   "cell_type": "code",
   "execution_count": 6,
   "metadata": {
    "ExecuteTime": {
     "end_time": "2021-03-26T01:33:23.062956Z",
     "start_time": "2021-03-26T01:33:23.046675Z"
    }
   },
   "outputs": [
    {
     "name": "stdout",
     "output_type": "stream",
     "text": [
      "score: 0.933\n",
      "coefficients for predicting class: goodNews\n"
     ]
    },
    {
     "data": {
      "text/html": [
       "<div>\n",
       "<style scoped>\n",
       "    .dataframe tbody tr th:only-of-type {\n",
       "        vertical-align: middle;\n",
       "    }\n",
       "\n",
       "    .dataframe tbody tr th {\n",
       "        vertical-align: top;\n",
       "    }\n",
       "\n",
       "    .dataframe thead th {\n",
       "        text-align: right;\n",
       "    }\n",
       "</style>\n",
       "<table border=\"1\" class=\"dataframe\">\n",
       "  <thead>\n",
       "    <tr style=\"text-align: right;\">\n",
       "      <th></th>\n",
       "      <th>anger</th>\n",
       "      <th>disgust</th>\n",
       "      <th>fear</th>\n",
       "      <th>happiness</th>\n",
       "      <th>sadness</th>\n",
       "      <th>surprise</th>\n",
       "      <th>neutral</th>\n",
       "    </tr>\n",
       "  </thead>\n",
       "  <tbody>\n",
       "    <tr>\n",
       "      <th>0</th>\n",
       "      <td>-0.722285</td>\n",
       "      <td>-0.566583</td>\n",
       "      <td>-2.868222</td>\n",
       "      <td>8.24894</td>\n",
       "      <td>-2.434085</td>\n",
       "      <td>-0.096825</td>\n",
       "      <td>-3.030539</td>\n",
       "    </tr>\n",
       "  </tbody>\n",
       "</table>\n",
       "</div>"
      ],
      "text/plain": [
       "      anger   disgust      fear  happiness   sadness  surprise   neutral\n",
       "0 -0.722285 -0.566583 -2.868222    8.24894 -2.434085 -0.096825 -3.030539"
      ]
     },
     "metadata": {},
     "output_type": "display_data"
    }
   ],
   "source": [
    "fex.sessions = fex.input().map(input_class_map)\n",
    "\n",
    "from sklearn.linear_model import LogisticRegression\n",
    "clf = fex.predict(X=fex.emotions(), y = fex.sessions, model = LogisticRegression, solver=\"liblinear\")\n",
    "print(f\"score: {clf.score(fex.emotions(), fex.sessions):.3g}\")\n",
    "print(f\"coefficients for predicting class: {clf.classes_[1]}\")\n",
    "display(pd.DataFrame(clf.coef_, columns = fex.emotions().columns))"
   ]
  },
  {
   "cell_type": "markdown",
   "metadata": {},
   "source": [
    "## Regression\n",
    "We can also run an fMRI style regression to predict the Action Unit activities from a contrast of conditions. This analysis can be conducted through the `regress` method. In this example, we identify the action units that are significantly more active in the good news versus the bad news conditions."
   ]
  },
  {
   "cell_type": "code",
   "execution_count": 7,
   "metadata": {
    "ExecuteTime": {
     "end_time": "2021-03-26T01:33:24.774852Z",
     "start_time": "2021-03-26T01:33:24.727406Z"
    }
   },
   "outputs": [
    {
     "name": "stdout",
     "output_type": "stream",
     "text": [
      "Betas predicting good news estimated for each emotion.\n"
     ]
    },
    {
     "name": "stderr",
     "output_type": "stream",
     "text": [
      "/home/jcheong/anaconda3/lib/python3.8/site-packages/nltools/stats.py:970: FutureWarning: Support for multi-dimensional indexing (e.g. `obj[:, None]`) is deprecated and will be removed in a future version.  Convert to a numpy array before indexing instead.\n",
      "  stderr = np.sqrt(np.diag(np.linalg.pinv(np.dot(X.T, X))))[:, np.newaxis] * sigma[np.newaxis, :]\n"
     ]
    },
    {
     "data": {
      "text/html": [
       "<div>\n",
       "<style scoped>\n",
       "    .dataframe tbody tr th:only-of-type {\n",
       "        vertical-align: middle;\n",
       "    }\n",
       "\n",
       "    .dataframe tbody tr th {\n",
       "        vertical-align: top;\n",
       "    }\n",
       "\n",
       "    .dataframe thead th {\n",
       "        text-align: right;\n",
       "    }\n",
       "</style>\n",
       "<table border=\"1\" class=\"dataframe\">\n",
       "  <thead>\n",
       "    <tr style=\"text-align: right;\">\n",
       "      <th></th>\n",
       "      <th>AU01</th>\n",
       "      <th>AU02</th>\n",
       "      <th>AU04</th>\n",
       "      <th>AU06</th>\n",
       "      <th>AU07</th>\n",
       "      <th>AU10</th>\n",
       "      <th>AU12</th>\n",
       "      <th>AU14</th>\n",
       "      <th>AU15</th>\n",
       "      <th>AU17</th>\n",
       "      <th>AU23</th>\n",
       "      <th>AU24</th>\n",
       "    </tr>\n",
       "  </thead>\n",
       "  <tbody>\n",
       "    <tr>\n",
       "      <th>betas</th>\n",
       "      <td>0.066</td>\n",
       "      <td>0.052</td>\n",
       "      <td>-0.065</td>\n",
       "      <td>0.497</td>\n",
       "      <td>0.291</td>\n",
       "      <td>0.408</td>\n",
       "      <td>0.569</td>\n",
       "      <td>0.022</td>\n",
       "      <td>0.111</td>\n",
       "      <td>0.101</td>\n",
       "      <td>-0.029</td>\n",
       "      <td>-0.284</td>\n",
       "    </tr>\n",
       "    <tr>\n",
       "      <th>t-stats</th>\n",
       "      <td>8.221</td>\n",
       "      <td>8.219</td>\n",
       "      <td>-17.153</td>\n",
       "      <td>43.783</td>\n",
       "      <td>33.364</td>\n",
       "      <td>35.625</td>\n",
       "      <td>46.713</td>\n",
       "      <td>4.088</td>\n",
       "      <td>17.515</td>\n",
       "      <td>15.673</td>\n",
       "      <td>-5.063</td>\n",
       "      <td>-22.483</td>\n",
       "    </tr>\n",
       "    <tr>\n",
       "      <th>p-values</th>\n",
       "      <td>0.000</td>\n",
       "      <td>0.000</td>\n",
       "      <td>0.000</td>\n",
       "      <td>0.000</td>\n",
       "      <td>0.000</td>\n",
       "      <td>0.000</td>\n",
       "      <td>0.000</td>\n",
       "      <td>0.000</td>\n",
       "      <td>0.000</td>\n",
       "      <td>0.000</td>\n",
       "      <td>0.000</td>\n",
       "      <td>0.000</td>\n",
       "    </tr>\n",
       "  </tbody>\n",
       "</table>\n",
       "</div>"
      ],
      "text/plain": [
       "           AU01   AU02    AU04    AU06    AU07    AU10    AU12   AU14    AU15  \\\n",
       "betas     0.066  0.052  -0.065   0.497   0.291   0.408   0.569  0.022   0.111   \n",
       "t-stats   8.221  8.219 -17.153  43.783  33.364  35.625  46.713  4.088  17.515   \n",
       "p-values  0.000  0.000   0.000   0.000   0.000   0.000   0.000  0.000   0.000   \n",
       "\n",
       "            AU17   AU23    AU24  \n",
       "betas      0.101 -0.029  -0.284  \n",
       "t-stats   15.673 -5.063 -22.483  \n",
       "p-values   0.000  0.000   0.000  "
      ]
     },
     "metadata": {},
     "output_type": "display_data"
    }
   ],
   "source": [
    "fex.sessions = fex.input().map(input_class_map).replace({\"goodNews\":.5, \"badNews\":-.5})\n",
    "X = pd.DataFrame(fex.sessions)\n",
    "X['intercept'] = 1\n",
    "b, t, p, df, residuals = fex.regress(X = X, y = fex.aus())\n",
    "print(\"Betas predicting good news estimated for each emotion.\")\n",
    "results = pd.concat([b.round(3).loc[[0]].rename(index={0:\"betas\"}),\n",
    "                    t.round(3).loc[[0]].rename(index={0:\"t-stats\"}),\n",
    "                    p.round(3).loc[[0]].rename(index={0:\"p-values\"})])\n",
    "display(results)"
   ]
  },
  {
   "cell_type": "markdown",
   "metadata": {},
   "source": [
    "## Intersubject correlations\n",
    "To compare the similarity of signals over time between subjects or videos, you can use the `isc` method. You can get a sense of how much two signals, such as a certain action unit activity, correlates over time. For example, if you want to see how AU01 activations are similar across the videos, you can do the following which shows that the temporal profile of AU01 activations form two clusters between the goodNews and the badNews conditions. "
   ]
  },
  {
   "cell_type": "code",
   "execution_count": 59,
   "metadata": {
    "ExecuteTime": {
     "end_time": "2021-03-26T02:03:17.392348Z",
     "start_time": "2021-03-26T02:03:16.179007Z"
    }
   },
   "outputs": [
    {
     "data": {
      "image/png": "[encoded data removed]",
      "text/plain": [
       "<Figure size 432x288 with 2 Axes>"
      ]
     },
     "metadata": {
      "filenames": {
       "image/png": "/home/jcheong/packages/feat/notebooks/_build/jupyter_execute/content/analysis_23_0.png"
      },
      "needs_background": "light"
     },
     "output_type": "display_data"
    }
   ],
   "source": [
    "fex.sessions = fex.input()\n",
    "isc = fex.isc(col = \"AU01\")\n",
    "sns.heatmap(isc.corr(), center=0, vmin=-1, vmax=1, cmap=\"RdBu_r\");"
   ]
  }
 ],
 "metadata": {
  "kernelspec": {
   "display_name": "Python 3",
   "language": "python",
   "name": "python3"
  },
  "language_info": {
   "codemirror_mode": {
    "name": "ipython",
    "version": 3
   },
   "file_extension": ".py",
   "mimetype": "text/x-python",
   "name": "python",
   "nbconvert_exporter": "python",
   "pygments_lexer": "ipython3",
   "version": "3.8.5"
  }
 },
 "nbformat": 4,
 "nbformat_minor": 4
}