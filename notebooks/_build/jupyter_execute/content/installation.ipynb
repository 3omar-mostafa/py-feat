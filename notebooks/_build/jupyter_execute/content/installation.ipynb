{
 "cells": [
  {
   "cell_type": "markdown",
   "metadata": {},
   "source": [
    "# Installation example\n",
    "\n",
    "*Written by Jin Hyun Cheong*\n",
    "\n",
    "Open the current notebook in Google Colab and run the cell below to install Py-Feat. Make sure to `Restart Runtime` so that the installation is recognized. "
   ]
  },
  {
   "cell_type": "code",
   "execution_count": null,
   "metadata": {},
   "outputs": [],
   "source": [
    "# Install Py-Feat from source.\n",
    "!git clone https://github.com/cosanlab/feat.git`  \n",
    "!cd feat && pip install -q -r requirements.txt\n",
    "!cd feat && pip install -q -e . \n",
    "!cd feat && python bin/download_models.py\n",
    "# Click Runtime from top menu and Restart Runtime! "
   ]
  },
  {
   "cell_type": "markdown",
   "metadata": {},
   "source": [
    "Make sure you Restart Runtime before this next step."
   ]
  },
  {
   "cell_type": "code",
   "execution_count": 1,
   "metadata": {
    "ExecuteTime": {
     "end_time": "2021-03-03T04:45:31.237098Z",
     "start_time": "2021-03-03T04:45:29.343540Z"
    }
   },
   "outputs": [],
   "source": [
    "# Check Fex class installation\n",
    "from feat import Fex\n",
    "fex = Fex()"
   ]
  },
  {
   "cell_type": "code",
   "execution_count": 2,
   "metadata": {
    "ExecuteTime": {
     "end_time": "2021-03-03T04:45:52.062640Z",
     "start_time": "2021-03-03T04:45:49.265000Z"
    }
   },
   "outputs": [
    {
     "name": "stdout",
     "output_type": "stream",
     "text": [
      "Loading Face Detection model:  retinaface\n",
      "Loading Face Landmark model:  MobileNet\n",
      "Loading au occurence model:  jaanet\n",
      "Loading emotion model:  fer\n"
     ]
    }
   ],
   "source": [
    "# Check Detector class installation\n",
    "from feat import Detector\n",
    "detector = Detector()"
   ]
  }
 ],
 "metadata": {
  "kernelspec": {
   "display_name": "Python 3",
   "language": "python",
   "name": "python3"
  },
  "language_info": {
   "codemirror_mode": {
    "name": "ipython",
    "version": 3
   },
   "file_extension": ".py",
   "mimetype": "text/x-python",
   "name": "python",
   "nbconvert_exporter": "python",
   "pygments_lexer": "ipython3",
   "version": "3.8.5"
  },
  "widgets": {
   "application/vnd.jupyter.widget-state+json": {
    "state": {},
    "version_major": 2,
    "version_minor": 0
   }
  }
 },
 "nbformat": 4,
 "nbformat_minor": 4
}